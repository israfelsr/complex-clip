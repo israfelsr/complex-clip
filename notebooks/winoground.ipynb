{
 "cells": [
  {
   "cell_type": "markdown",
   "metadata": {},
   "source": [
    "# Winoground Results Analysis\n",
    "\n",
    "This notebook processes all winoground evaluation results and converts them to a pandas DataFrame and CSV."
   ]
  },
  {
   "cell_type": "code",
   "execution_count": null,
   "metadata": {},
   "outputs": [],
   "source": [
    "import pandas as pd\n",
    "import json\n",
    "import glob\n",
    "import os\n",
    "from pathlib import Path"
   ]
  },
  {
   "cell_type": "code",
   "execution_count": null,
   "metadata": {},
   "outputs": [],
   "source": [
    "# Define paths\n",
    "results_dir = \"../results/winoground/\"\n",
    "output_csv = \"../results/winoground_summary.csv\""
   ]
  },
  {
   "cell_type": "code",
   "execution_count": null,
   "metadata": {},
   "outputs": [],
   "source": [
    "# Read all JSON files\n",
    "json_files = glob.glob(os.path.join(results_dir, \"*.json\"))\n",
    "print(f\"Found {len(json_files)} result files:\")\n",
    "for file in json_files:\n",
    "    print(f\"  - {os.path.basename(file)}\")"
   ]
  },
  {
   "cell_type": "code",
   "execution_count": null,
   "metadata": {},
   "outputs": [],
   "source": "# Process each file and create rows for DataFrame\nrows = []\n\nfor json_file in json_files:\n    model_name = Path(json_file).stem  # Get filename without extension\n    \n    with open(json_file, 'r') as f:\n        data = json.load(f)\n    \n    # Navigate to winoground results within experiments\n    winoground_data = data['experiments']['winoground']\n    \n    # Overall results\n    overall = winoground_data['overall']\n    rows.append({\n        'model': model_name,\n        'tag': 'Overall',\n        'text_score': overall['text'] * 100,\n        'image_score': overall['image'] * 100,\n        'group_score': overall['group'] * 100,\n        'count': winoground_data['total_examples']\n    })\n    \n    # Tag-specific results\n    for tag, tag_data in winoground_data['by_tag'].items():\n        rows.append({\n            'model': model_name,\n            'tag': tag,\n            'text_score': tag_data['text'] * 100,\n            'image_score': tag_data['image'] * 100,\n            'group_score': tag_data['group'] * 100,\n            'count': tag_data['count']\n        })\n\nprint(f\"Created {len(rows)} rows from {len(json_files)} files\")"
  },
  {
   "cell_type": "code",
   "execution_count": null,
   "metadata": {},
   "outputs": [],
   "source": [
    "# Create DataFrame\n",
    "df = pd.DataFrame(rows)\n",
    "print(f\"DataFrame shape: {df.shape}\")\n",
    "print(\"\\nColumns:\", df.columns.tolist())\n",
    "print(\"\\nFirst few rows:\")\n",
    "df.head(10)"
   ]
  },
  {
   "cell_type": "code",
   "execution_count": null,
   "metadata": {},
   "outputs": [],
   "source": [
    "# Display summary statistics\n",
    "print(\"Models found:\", df['model'].unique())\n",
    "print(\"\\nTags found:\", df['tag'].unique())\n",
    "print(\"\\nSample counts by tag:\")\n",
    "tag_counts = df[df['model'] == df['model'].iloc[0]].set_index('tag')['count']\n",
    "print(tag_counts)"
   ]
  },
  {
   "cell_type": "code",
   "execution_count": null,
   "metadata": {},
   "outputs": [],
   "source": [
    "# Save to CSV\n",
    "df.to_csv(output_csv, index=False)\n",
    "print(f\"Results saved to: {output_csv}\")\n",
    "print(f\"CSV shape: {df.shape}\")"
   ]
  },
  {
   "cell_type": "code",
   "execution_count": null,
   "metadata": {},
   "outputs": [],
   "source": [
    "# Optional: Create a pivot table for easier viewing\n",
    "# Pivot by model and tag for group scores\n",
    "pivot_group = df.pivot(index='tag', columns='model', values='group_score')\n",
    "print(\"\\nGroup Scores by Model and Tag:\")\n",
    "display(pivot_group.round(2))"
   ]
  },
  {
   "cell_type": "code",
   "execution_count": null,
   "metadata": {},
   "outputs": [],
   "source": "# Save pivot table as well\npivot_group.to_csv(\"../results/winoground_pivot_group.csv\")\nprint(\"Pivot table saved to: ../results/winoground_pivot_group.csv\")\n\n# Generate LaTeX table\ndef generate_latex_table(df):\n    \"\"\"Generate LaTeX table in the specified format\"\"\"\n    # Get unique tags and models, ensure consistent ordering\n    tags = ['Overall', 'Non Minimal', 'Unusual Image', 'Visually Difficult', \n            'Unusual Text', 'Ambiguously Correct', 'Complex Reasoning', 'NoTag']\n    models = df['model'].unique()\n    \n    latex_lines = []\n    latex_lines.append(\"\\\\begin{table*}[t]\")\n    latex_lines.append(\"\\\\centering\")\n    latex_lines.append(\"\\\\resizebox{\\\\textwidth}{!}{%\")\n    latex_lines.append(\"\\\\begin{tabular}{@{} l\")\n    latex_lines.append(\"    *{24}{S[table-format=2.1]} % 8 tags x 3 metrics each\")\n    latex_lines.append(\"    @{}}\")\n    latex_lines.append(\"\\\\toprule\")\n    \n    # Main header\n    latex_lines.append(\"& \\\\multicolumn{24}{c}{\\\\textbf{Winoground Results by Tag Category}} \\\\\\\\\")\n    latex_lines.append(\"\\\\cmidrule(lr){2-25}\")\n    \n    # Tag headers\n    header_parts = [\"\"]\n    cmidrule_parts = []\n    start_col = 2\n    for tag in tags:\n        header_parts.append(f\"\\\\multicolumn{{3}}{{c}}{{\\\\textbf{{{tag}}}}}\")\n        cmidrule_parts.append(f\"\\\\cmidrule(lr){{{start_col}-{start_col+2}}}\")\n        start_col += 3\n    \n    latex_lines.append(\" \".join(header_parts) + \" \\\\\\\\\")\n    latex_lines.append(\" \".join(cmidrule_parts))\n    \n    # Metric headers\n    metric_parts = [\"\\\\textbf{Model}\"]\n    for tag in tags:\n        metric_parts.extend([\"{Text}\", \"{Image}\", \"{Group}\"])\n    \n    latex_lines.append(\" & \".join(metric_parts) + \" \\\\\\\\\")\n    latex_lines.append(\"\\\\midrule\")\n    \n    # Data rows\n    for model in models:\n        model_data = df[df['model'] == model]\n        # Clean model name for LaTeX\n        clean_model = model.replace('_', '\\\\_')\n        row_parts = [clean_model]\n        \n        for tag in tags:\n            tag_data = model_data[model_data['tag'] == tag]\n            if len(tag_data) > 0:\n                text_score = f\"{tag_data.iloc[0]['text_score']:.1f}\"\n                image_score = f\"{tag_data.iloc[0]['image_score']:.1f}\"\n                group_score = f\"{tag_data.iloc[0]['group_score']:.1f}\"\n                row_parts.extend([text_score, image_score, group_score])\n            else:\n                row_parts.extend([\"-\", \"-\", \"-\"])\n        \n        latex_lines.append(\" & \".join(row_parts) + \" \\\\\\\\\")\n    \n    # End table\n    latex_lines.append(\"\\\\bottomrule\")\n    latex_lines.append(\"\\\\end{tabular}\")\n    latex_lines.append(\"}\")\n    latex_lines.append(\"\\\\end{table*}\")\n    \n    return \"\\n\".join(latex_lines)\n\n# Generate and display LaTeX table\nlatex_table = generate_latex_table(df)\nprint(\"\\n\" + \"=\"*80)\nprint(\"LATEX TABLE:\")\nprint(\"=\"*80)\nprint(latex_table)\nprint(\"=\"*80)\n\n# Save LaTeX table to file\nwith open(\"../results/winoground_table.tex\", \"w\") as f:\n    f.write(latex_table)\nprint(\"\\nLaTeX table saved to: ../results/winoground_table.tex\")"
  }
 ],
 "metadata": {
  "kernelspec": {
   "display_name": "Python 3",
   "language": "python",
   "name": "python3"
  },
  "language_info": {
   "codemirror_mode": {
    "name": "ipython",
    "version": 3
   },
   "file_extension": ".py",
   "mimetype": "text/x-python",
   "name": "python",
   "nbconvert_exporter": "python",
   "pygments_lexer": "ipython3",
   "version": "3.8.5"
  }
 },
 "nbformat": 4,
 "nbformat_minor": 4
}