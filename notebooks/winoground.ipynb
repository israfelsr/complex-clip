{
 "cells": [
  {
   "cell_type": "markdown",
   "metadata": {},
   "source": [
    "# Winoground Results Analysis\n",
    "\n",
    "This notebook processes all winoground evaluation results and converts them to a pandas DataFrame and CSV."
   ]
  },
  {
   "cell_type": "code",
   "execution_count": null,
   "metadata": {},
   "outputs": [],
   "source": [
    "import pandas as pd\n",
    "import json\n",
    "import glob\n",
    "import os\n",
    "from pathlib import Path"
   ]
  },
  {
   "cell_type": "code",
   "execution_count": null,
   "metadata": {},
   "outputs": [],
   "source": [
    "# Define paths\n",
    "results_dir = \"../results/winoground/\"\n",
    "output_csv = \"../results/winoground_summary.csv\""
   ]
  },
  {
   "cell_type": "code",
   "execution_count": null,
   "metadata": {},
   "outputs": [],
   "source": [
    "# Read all JSON files\n",
    "json_files = glob.glob(os.path.join(results_dir, \"*.json\"))\n",
    "print(f\"Found {len(json_files)} result files:\")\n",
    "for file in json_files:\n",
    "    print(f\"  - {os.path.basename(file)}\")"
   ]
  },
  {
   "cell_type": "code",
   "execution_count": null,
   "metadata": {},
   "outputs": [],
   "source": "# Process each file and create rows for DataFrame\nrows = []\n\nfor json_file in json_files:\n    model_name = Path(json_file).stem  # Get filename without extension\n    \n    with open(json_file, 'r') as f:\n        data = json.load(f)\n    \n    # Navigate to winoground results within experiments\n    winoground_data = data['experiments']['winoground']\n    \n    # Overall results\n    overall = winoground_data['overall']\n    rows.append({\n        'model': model_name,\n        'tag': 'Overall',\n        'text_score': overall['text'] * 100,\n        'image_score': overall['image'] * 100,\n        'group_score': overall['group'] * 100,\n        'count': winoground_data['total_examples']\n    })\n    \n    # Tag-specific results\n    for tag, tag_data in winoground_data['by_tag'].items():\n        rows.append({\n            'model': model_name,\n            'tag': tag,\n            'text_score': tag_data['text'] * 100,\n            'image_score': tag_data['image'] * 100,\n            'group_score': tag_data['group'] * 100,\n            'count': tag_data['count']\n        })\n\nprint(f\"Created {len(rows)} rows from {len(json_files)} files\")"
  },
  {
   "cell_type": "code",
   "execution_count": null,
   "metadata": {},
   "outputs": [],
   "source": [
    "# Create DataFrame\n",
    "df = pd.DataFrame(rows)\n",
    "print(f\"DataFrame shape: {df.shape}\")\n",
    "print(\"\\nColumns:\", df.columns.tolist())\n",
    "print(\"\\nFirst few rows:\")\n",
    "df.head(10)"
   ]
  },
  {
   "cell_type": "code",
   "execution_count": null,
   "metadata": {},
   "outputs": [],
   "source": [
    "# Display summary statistics\n",
    "print(\"Models found:\", df['model'].unique())\n",
    "print(\"\\nTags found:\", df['tag'].unique())\n",
    "print(\"\\nSample counts by tag:\")\n",
    "tag_counts = df[df['model'] == df['model'].iloc[0]].set_index('tag')['count']\n",
    "print(tag_counts)"
   ]
  },
  {
   "cell_type": "code",
   "execution_count": null,
   "metadata": {},
   "outputs": [],
   "source": [
    "# Save to CSV\n",
    "df.to_csv(output_csv, index=False)\n",
    "print(f\"Results saved to: {output_csv}\")\n",
    "print(f\"CSV shape: {df.shape}\")"
   ]
  },
  {
   "cell_type": "code",
   "execution_count": null,
   "metadata": {},
   "outputs": [],
   "source": [
    "# Optional: Create a pivot table for easier viewing\n",
    "# Pivot by model and tag for group scores\n",
    "pivot_group = df.pivot(index='tag', columns='model', values='group_score')\n",
    "print(\"\\nGroup Scores by Model and Tag:\")\n",
    "display(pivot_group.round(2))"
   ]
  },
  {
   "cell_type": "code",
   "execution_count": null,
   "metadata": {},
   "outputs": [],
   "source": [
    "# Save pivot table as well\n",
    "pivot_group.to_csv(\"../results/winoground_pivot_group.csv\")\n",
    "print(\"Pivot table saved to: ../results/winoground_pivot_group.csv\")"
   ]
  }
 ],
 "metadata": {
  "kernelspec": {
   "display_name": "Python 3",
   "language": "python",
   "name": "python3"
  },
  "language_info": {
   "codemirror_mode": {
    "name": "ipython",
    "version": 3
   },
   "file_extension": ".py",
   "mimetype": "text/x-python",
   "name": "python",
   "nbconvert_exporter": "python",
   "pygments_lexer": "ipython3",
   "version": "3.8.5"
  }
 },
 "nbformat": 4,
 "nbformat_minor": 4
}